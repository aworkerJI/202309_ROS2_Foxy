{
 "cells": [
  {
   "cell_type": "code",
   "execution_count": 1,
   "id": "ce2602e5-c530-40d9-982d-228a791e5aa4",
   "metadata": {},
   "outputs": [
    {
     "name": "stdout",
     "output_type": "stream",
     "text": [
      "1\n",
      "2\n",
      "3\n",
      "4\n",
      "5\n",
      "6\n",
      "7\n",
      "8\n",
      "9\n",
      "10\n"
     ]
    }
   ],
   "source": [
    "import rclpy as rp\n",
    "from geometry_msgs.msg import Twist\n",
    "\n",
    "rp.init()\n",
    "test_node = rp.create_node('pub_test')\n",
    "\n",
    "msg = Twist()\n",
    "msg.angular.z = 5.0\n",
    "\n",
    "num= 10\n",
    "for n in range(1, num+1):\n",
    "    t_node1 = '/turtle'\n",
    "    t_node2 = str(n)\n",
    "    t_node3 = '/cmd_vel'\n",
    "    turtle_node = t_node1 + t_node2 + t_node3\n",
    "    pub = test_node.create_publisher(Twist, turtle_node, 10)\n",
    "    pub.publish(msg)\n",
    "\n"
   ]
  },
  {
   "cell_type": "code",
   "execution_count": null,
   "id": "a21dceae-4413-408c-80a2-6a9f1ca5832d",
   "metadata": {},
   "outputs": [],
   "source": []
  },
  {
   "cell_type": "code",
   "execution_count": null,
   "id": "afa5deb9-8d86-4fcd-b098-20b667c76947",
   "metadata": {},
   "outputs": [],
   "source": []
  },
  {
   "cell_type": "code",
   "execution_count": null,
   "id": "5452e02f-74b6-47ff-a036-1f9b6215c545",
   "metadata": {},
   "outputs": [],
   "source": []
  }
 ],
 "metadata": {
  "kernelspec": {
   "display_name": "Python 3 (ipykernel)",
   "language": "python",
   "name": "python3"
  },
  "language_info": {
   "codemirror_mode": {
    "name": "ipython",
    "version": 3
   },
   "file_extension": ".py",
   "mimetype": "text/x-python",
   "name": "python",
   "nbconvert_exporter": "python",
   "pygments_lexer": "ipython3",
   "version": "3.8.10"
  }
 },
 "nbformat": 4,
 "nbformat_minor": 5
}
